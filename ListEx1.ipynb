{
 "cells": [
  {
   "cell_type": "markdown",
   "metadata": {},
   "source": [
    "## list exercise"
   ]
  },
  {
   "cell_type": "code",
   "execution_count": 4,
   "metadata": {},
   "outputs": [
    {
     "name": "stdout",
     "output_type": "stream",
     "text": [
      "['abbas', 'bob', 'dave', 'tim']\n"
     ]
    }
   ],
   "source": [
    "## variable that are list\n",
    "myList = [\"abbas\",\"bob\",\"dave\",\"tim\"]\n",
    "print(myList) ## output list"
   ]
  },
  {
   "cell_type": "code",
   "execution_count": 20,
   "metadata": {},
   "outputs": [
    {
     "name": "stdout",
     "output_type": "stream",
     "text": [
      "abbas*bob*dave*tim*"
     ]
    }
   ],
   "source": [
    "## output list one at a time\n",
    "for i in (myList):## for loop\n",
    "    print(i, end=\"*\")## end is to add anyhing in between each element "
   ]
  },
  {
   "cell_type": "code",
   "execution_count": 22,
   "metadata": {},
   "outputs": [
    {
     "name": "stdout",
     "output_type": "stream",
     "text": [
      "4\n"
     ]
    }
   ],
   "source": [
    "## how many elements are there in each list\n",
    "x = len(myList)\n",
    "print(x)\n"
   ]
  },
  {
   "cell_type": "code",
   "execution_count": 30,
   "metadata": {},
   "outputs": [
    {
     "name": "stdout",
     "output_type": "stream",
     "text": [
      "abbas\n",
      "dave\n"
     ]
    }
   ],
   "source": [
    "##print every second element \n",
    "for i in range(len(myList)):\n",
    "    ##only print if the list index in divisible by 2 - even boxes \n",
    "    if i%2 == 0:\n",
    "         print(myList[i])"
   ]
  },
  {
   "cell_type": "code",
   "execution_count": 32,
   "metadata": {},
   "outputs": [
    {
     "name": "stdout",
     "output_type": "stream",
     "text": [
      "abbas\n",
      "dave\n"
     ]
    }
   ],
   "source": [
    "for i in range(0,len(myList),2):\n",
    "    print(myList[i])"
   ]
  }
 ],
 "metadata": {
  "kernelspec": {
   "display_name": "Python 3",
   "language": "python",
   "name": "python3"
  },
  "language_info": {
   "codemirror_mode": {
    "name": "ipython",
    "version": 3
   },
   "file_extension": ".py",
   "mimetype": "text/x-python",
   "name": "python",
   "nbconvert_exporter": "python",
   "pygments_lexer": "ipython3",
   "version": "3.5.2"
  }
 },
 "nbformat": 4,
 "nbformat_minor": 2
}
