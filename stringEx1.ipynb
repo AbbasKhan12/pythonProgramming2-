{
 "cells": [
  {
   "cell_type": "markdown",
   "metadata": {},
   "source": [
    "## String Exercise 1 "
   ]
  },
  {
   "cell_type": "code",
   "execution_count": 14,
   "metadata": {},
   "outputs": [],
   "source": [
    "## create a vairiable with the data type sting \n",
    "myString = \"hello world\" ## double \"\" mean text data\n",
    "userName = \"Abbas\"\n",
    "words = \"random words\"\n",
    "age = \"12\""
   ]
  },
  {
   "cell_type": "code",
   "execution_count": 13,
   "metadata": {},
   "outputs": [
    {
     "name": "stdout",
     "output_type": "stream",
     "text": [
      "random words\n",
      "random wordshello world\n"
     ]
    }
   ],
   "source": [
    "##function that i can use to output and input usig strings \n",
    "##output\n",
    "print(words)\n",
    "print(words + myString)\n",
    "\n"
   ]
  },
  {
   "cell_type": "code",
   "execution_count": 18,
   "metadata": {},
   "outputs": [
    {
     "name": "stdout",
     "output_type": "stream",
     "text": [
      "hello user age of 12\n"
     ]
    }
   ],
   "source": [
    "##convert an int into a str \n",
    "print(\"hello user age of \" + str(age))## changes it into a sting "
   ]
  },
  {
   "cell_type": "code",
   "execution_count": 19,
   "metadata": {},
   "outputs": [
    {
     "name": "stdout",
     "output_type": "stream",
     "text": [
      "what is your name abbas\n",
      "abbas\n",
      "what is your age12\n",
      "12\n"
     ]
    }
   ],
   "source": [
    "userName = input(\"what is your name \")\n",
    "print(userName)\n",
    "age = int(input(\"what is your age\") ## if yo want age to be a int\n",
    "print(age)"
   ]
  }
 ],
 "metadata": {
  "kernelspec": {
   "display_name": "Python 3",
   "language": "python",
   "name": "python3"
  },
  "language_info": {
   "codemirror_mode": {
    "name": "ipython",
    "version": 3
   },
   "file_extension": ".py",
   "mimetype": "text/x-python",
   "name": "python",
   "nbconvert_exporter": "python",
   "pygments_lexer": "ipython3",
   "version": "3.5.2"
  }
 },
 "nbformat": 4,
 "nbformat_minor": 2
}
